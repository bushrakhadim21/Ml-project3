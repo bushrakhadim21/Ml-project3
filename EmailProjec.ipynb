{
  "metadata": {
    "kernelspec": {
      "name": "python",
      "display_name": "Python (Pyodide)",
      "language": "python"
    },
    "language_info": {
      "codemirror_mode": {
        "name": "python",
        "version": 3
      },
      "file_extension": ".py",
      "mimetype": "text/x-python",
      "name": "python",
      "nbconvert_exporter": "python",
      "pygments_lexer": "ipython3",
      "version": "3.8"
    }
  },
  "nbformat_minor": 4,
  "nbformat": 4,
  "cells": [
    {
      "cell_type": "code",
      "source": "import numpy as np",
      "metadata": {
        "trusted": true
      },
      "outputs": [],
      "execution_count": 101
    },
    {
      "cell_type": "code",
      "source": "import pandas as pd",
      "metadata": {
        "trusted": true
      },
      "outputs": [],
      "execution_count": 102
    },
    {
      "cell_type": "code",
      "source": "import matplotlib.pyplot as plt\nfrom sklearn.linear_model import LinearRegression",
      "metadata": {
        "trusted": true
      },
      "outputs": [],
      "execution_count": 103
    },
    {
      "cell_type": "code",
      "source": "data = pd.read_csv('emails.csv')",
      "metadata": {
        "trusted": true
      },
      "outputs": [],
      "execution_count": 105
    },
    {
      "cell_type": "code",
      "source": "data.head()",
      "metadata": {
        "trusted": true
      },
      "outputs": [
        {
          "execution_count": 106,
          "output_type": "execute_result",
          "data": {
            "text/plain": "  0 No.  the  to  ect  and  for  of    a  you  hou  ...  connevey  jay  \\\n0   0 1    0   0    1    0    0   0    2    0    0  ...         0    0   \n1   0 2    8  13   24    6    6   2  102    1   27  ...         0    0   \n2   0 3    0   0    1    0    0   0    8    0    0  ...         0    0   \n3   0 4    0   5   22    0    5   1   51    2   10  ...         0    0   \n4   0 5    7   6   17    1    5   2   57    0    9  ...         0    0   \n\n   valued  lay  infrastructure  military  allowing  ff  dry  Prediction  \n0       0    0               0         0         0   0    0           0  \n1       0    0               0         0         0   1    0           0  \n2       0    0               0         0         0   0    0           0  \n3       0    0               0         0         0   0    0           0  \n4       0    0               0         0         0   1    0           0  \n\n[5 rows x 3002 columns]",
            "text/html": "<div>\n<style scoped>\n    .dataframe tbody tr th:only-of-type {\n        vertical-align: middle;\n    }\n\n    .dataframe tbody tr th {\n        vertical-align: top;\n    }\n\n    .dataframe thead th {\n        text-align: right;\n    }\n</style>\n<table border=\"1\" class=\"dataframe\">\n  <thead>\n    <tr style=\"text-align: right;\">\n      <th></th>\n      <th>0 No.</th>\n      <th>the</th>\n      <th>to</th>\n      <th>ect</th>\n      <th>and</th>\n      <th>for</th>\n      <th>of</th>\n      <th>a</th>\n      <th>you</th>\n      <th>hou</th>\n      <th>...</th>\n      <th>connevey</th>\n      <th>jay</th>\n      <th>valued</th>\n      <th>lay</th>\n      <th>infrastructure</th>\n      <th>military</th>\n      <th>allowing</th>\n      <th>ff</th>\n      <th>dry</th>\n      <th>Prediction</th>\n    </tr>\n  </thead>\n  <tbody>\n    <tr>\n      <th>0</th>\n      <td>0 1</td>\n      <td>0</td>\n      <td>0</td>\n      <td>1</td>\n      <td>0</td>\n      <td>0</td>\n      <td>0</td>\n      <td>2</td>\n      <td>0</td>\n      <td>0</td>\n      <td>...</td>\n      <td>0</td>\n      <td>0</td>\n      <td>0</td>\n      <td>0</td>\n      <td>0</td>\n      <td>0</td>\n      <td>0</td>\n      <td>0</td>\n      <td>0</td>\n      <td>0</td>\n    </tr>\n    <tr>\n      <th>1</th>\n      <td>0 2</td>\n      <td>8</td>\n      <td>13</td>\n      <td>24</td>\n      <td>6</td>\n      <td>6</td>\n      <td>2</td>\n      <td>102</td>\n      <td>1</td>\n      <td>27</td>\n      <td>...</td>\n      <td>0</td>\n      <td>0</td>\n      <td>0</td>\n      <td>0</td>\n      <td>0</td>\n      <td>0</td>\n      <td>0</td>\n      <td>1</td>\n      <td>0</td>\n      <td>0</td>\n    </tr>\n    <tr>\n      <th>2</th>\n      <td>0 3</td>\n      <td>0</td>\n      <td>0</td>\n      <td>1</td>\n      <td>0</td>\n      <td>0</td>\n      <td>0</td>\n      <td>8</td>\n      <td>0</td>\n      <td>0</td>\n      <td>...</td>\n      <td>0</td>\n      <td>0</td>\n      <td>0</td>\n      <td>0</td>\n      <td>0</td>\n      <td>0</td>\n      <td>0</td>\n      <td>0</td>\n      <td>0</td>\n      <td>0</td>\n    </tr>\n    <tr>\n      <th>3</th>\n      <td>0 4</td>\n      <td>0</td>\n      <td>5</td>\n      <td>22</td>\n      <td>0</td>\n      <td>5</td>\n      <td>1</td>\n      <td>51</td>\n      <td>2</td>\n      <td>10</td>\n      <td>...</td>\n      <td>0</td>\n      <td>0</td>\n      <td>0</td>\n      <td>0</td>\n      <td>0</td>\n      <td>0</td>\n      <td>0</td>\n      <td>0</td>\n      <td>0</td>\n      <td>0</td>\n    </tr>\n    <tr>\n      <th>4</th>\n      <td>0 5</td>\n      <td>7</td>\n      <td>6</td>\n      <td>17</td>\n      <td>1</td>\n      <td>5</td>\n      <td>2</td>\n      <td>57</td>\n      <td>0</td>\n      <td>9</td>\n      <td>...</td>\n      <td>0</td>\n      <td>0</td>\n      <td>0</td>\n      <td>0</td>\n      <td>0</td>\n      <td>0</td>\n      <td>0</td>\n      <td>1</td>\n      <td>0</td>\n      <td>0</td>\n    </tr>\n  </tbody>\n</table>\n<p>5 rows × 3002 columns</p>\n</div>"
          },
          "metadata": {}
        }
      ],
      "execution_count": 106
    },
    {
      "cell_type": "code",
      "source": "x= data.iloc[:, 1:-1]",
      "metadata": {
        "trusted": true
      },
      "outputs": [],
      "execution_count": 107
    },
    {
      "cell_type": "code",
      "source": "print(x)",
      "metadata": {
        "trusted": true
      },
      "outputs": [
        {
          "name": "stdout",
          "text": "      the  to  ect  and  for  of    a  you  hou  in  ...  enhancements  \\\n0       0   0    1    0    0   0    2    0    0   0  ...             0   \n1       8  13   24    6    6   2  102    1   27  18  ...             0   \n2       0   0    1    0    0   0    8    0    0   4  ...             0   \n3       0   5   22    0    5   1   51    2   10   1  ...             0   \n4       7   6   17    1    5   2   57    0    9   3  ...             0   \n...   ...  ..  ...  ...  ...  ..  ...  ...  ...  ..  ...           ...   \n5167    2   2    2    3    0   0   32    0    0   5  ...             0   \n5168   35  27   11    2    6   5  151    4    3  23  ...             0   \n5169    0   0    1    1    0   0   11    0    0   1  ...             0   \n5170    2   7    1    0    2   1   28    2    0   8  ...             0   \n5171   22  24    5    1    6   5  148    8    2  23  ...             0   \n\n      connevey  jay  valued  lay  infrastructure  military  allowing  ff  dry  \n0            0    0       0    0               0         0         0   0    0  \n1            0    0       0    0               0         0         0   1    0  \n2            0    0       0    0               0         0         0   0    0  \n3            0    0       0    0               0         0         0   0    0  \n4            0    0       0    0               0         0         0   1    0  \n...        ...  ...     ...  ...             ...       ...       ...  ..  ...  \n5167         0    0       0    0               0         0         0   0    0  \n5168         0    0       0    0               0         0         0   1    0  \n5169         0    0       0    0               0         0         0   0    0  \n5170         0    0       0    0               0         0         0   1    0  \n5171         0    0       0    0               0         0         0   0    0  \n\n[5172 rows x 3000 columns]\n",
          "output_type": "stream"
        }
      ],
      "execution_count": 108
    },
    {
      "cell_type": "code",
      "source": "y = data['Prediction'].values",
      "metadata": {
        "trusted": true
      },
      "outputs": [],
      "execution_count": 109
    },
    {
      "cell_type": "code",
      "source": "print(y)",
      "metadata": {
        "trusted": true
      },
      "outputs": [
        {
          "name": "stdout",
          "text": "[0 0 0 ... 1 1 0]\n",
          "output_type": "stream"
        }
      ],
      "execution_count": 110
    },
    {
      "cell_type": "code",
      "source": "from sklearn.linear_model import LinearRegression",
      "metadata": {
        "trusted": true
      },
      "outputs": [],
      "execution_count": 112
    },
    {
      "cell_type": "code",
      "source": "model = LinearRegression()",
      "metadata": {
        "trusted": true
      },
      "outputs": [],
      "execution_count": 113
    },
    {
      "cell_type": "code",
      "source": "model.fit(X, y)",
      "metadata": {
        "trusted": true
      },
      "outputs": [
        {
          "execution_count": 114,
          "output_type": "execute_result",
          "data": {
            "text/plain": "LinearRegression()",
            "text/html": "<style>#sk-container-id-5 {color: black;}#sk-container-id-5 pre{padding: 0;}#sk-container-id-5 div.sk-toggleable {background-color: white;}#sk-container-id-5 label.sk-toggleable__label {cursor: pointer;display: block;width: 100%;margin-bottom: 0;padding: 0.3em;box-sizing: border-box;text-align: center;}#sk-container-id-5 label.sk-toggleable__label-arrow:before {content: \"▸\";float: left;margin-right: 0.25em;color: #696969;}#sk-container-id-5 label.sk-toggleable__label-arrow:hover:before {color: black;}#sk-container-id-5 div.sk-estimator:hover label.sk-toggleable__label-arrow:before {color: black;}#sk-container-id-5 div.sk-toggleable__content {max-height: 0;max-width: 0;overflow: hidden;text-align: left;background-color: #f0f8ff;}#sk-container-id-5 div.sk-toggleable__content pre {margin: 0.2em;color: black;border-radius: 0.25em;background-color: #f0f8ff;}#sk-container-id-5 input.sk-toggleable__control:checked~div.sk-toggleable__content {max-height: 200px;max-width: 100%;overflow: auto;}#sk-container-id-5 input.sk-toggleable__control:checked~label.sk-toggleable__label-arrow:before {content: \"▾\";}#sk-container-id-5 div.sk-estimator input.sk-toggleable__control:checked~label.sk-toggleable__label {background-color: #d4ebff;}#sk-container-id-5 div.sk-label input.sk-toggleable__control:checked~label.sk-toggleable__label {background-color: #d4ebff;}#sk-container-id-5 input.sk-hidden--visually {border: 0;clip: rect(1px 1px 1px 1px);clip: rect(1px, 1px, 1px, 1px);height: 1px;margin: -1px;overflow: hidden;padding: 0;position: absolute;width: 1px;}#sk-container-id-5 div.sk-estimator {font-family: monospace;background-color: #f0f8ff;border: 1px dotted black;border-radius: 0.25em;box-sizing: border-box;margin-bottom: 0.5em;}#sk-container-id-5 div.sk-estimator:hover {background-color: #d4ebff;}#sk-container-id-5 div.sk-parallel-item::after {content: \"\";width: 100%;border-bottom: 1px solid gray;flex-grow: 1;}#sk-container-id-5 div.sk-label:hover label.sk-toggleable__label {background-color: #d4ebff;}#sk-container-id-5 div.sk-serial::before {content: \"\";position: absolute;border-left: 1px solid gray;box-sizing: border-box;top: 0;bottom: 0;left: 50%;z-index: 0;}#sk-container-id-5 div.sk-serial {display: flex;flex-direction: column;align-items: center;background-color: white;padding-right: 0.2em;padding-left: 0.2em;position: relative;}#sk-container-id-5 div.sk-item {position: relative;z-index: 1;}#sk-container-id-5 div.sk-parallel {display: flex;align-items: stretch;justify-content: center;background-color: white;position: relative;}#sk-container-id-5 div.sk-item::before, #sk-container-id-5 div.sk-parallel-item::before {content: \"\";position: absolute;border-left: 1px solid gray;box-sizing: border-box;top: 0;bottom: 0;left: 50%;z-index: -1;}#sk-container-id-5 div.sk-parallel-item {display: flex;flex-direction: column;z-index: 1;position: relative;background-color: white;}#sk-container-id-5 div.sk-parallel-item:first-child::after {align-self: flex-end;width: 50%;}#sk-container-id-5 div.sk-parallel-item:last-child::after {align-self: flex-start;width: 50%;}#sk-container-id-5 div.sk-parallel-item:only-child::after {width: 0;}#sk-container-id-5 div.sk-dashed-wrapped {border: 1px dashed gray;margin: 0 0.4em 0.5em 0.4em;box-sizing: border-box;padding-bottom: 0.4em;background-color: white;}#sk-container-id-5 div.sk-label label {font-family: monospace;font-weight: bold;display: inline-block;line-height: 1.2em;}#sk-container-id-5 div.sk-label-container {text-align: center;}#sk-container-id-5 div.sk-container {/* jupyter's `normalize.less` sets `[hidden] { display: none; }` but bootstrap.min.css set `[hidden] { display: none !important; }` so we also need the `!important` here to be able to override the default hidden behavior on the sphinx rendered scikit-learn.org. See: https://github.com/scikit-learn/scikit-learn/issues/21755 */display: inline-block !important;position: relative;}#sk-container-id-5 div.sk-text-repr-fallback {display: none;}</style><div id=\"sk-container-id-5\" class=\"sk-top-container\"><div class=\"sk-text-repr-fallback\"><pre>LinearRegression()</pre><b>In a Jupyter environment, please rerun this cell to show the HTML representation or trust the notebook. <br />On GitHub, the HTML representation is unable to render, please try loading this page with nbviewer.org.</b></div><div class=\"sk-container\" hidden><div class=\"sk-item\"><div class=\"sk-estimator sk-toggleable\"><input class=\"sk-toggleable__control sk-hidden--visually\" id=\"sk-estimator-id-5\" type=\"checkbox\" checked><label for=\"sk-estimator-id-5\" class=\"sk-toggleable__label sk-toggleable__label-arrow\">LinearRegression</label><div class=\"sk-toggleable__content\"><pre>LinearRegression()</pre></div></div></div></div></div>"
          },
          "metadata": {}
        }
      ],
      "execution_count": 114
    },
    {
      "cell_type": "code",
      "source": " r_sq = model.score(x, y)",
      "metadata": {
        "trusted": true
      },
      "outputs": [],
      "execution_count": 78
    },
    {
      "cell_type": "code",
      "source": "print(f\"coefficient of determination: {r_sq}\")",
      "metadata": {
        "trusted": true
      },
      "outputs": [
        {
          "name": "stdout",
          "text": "coefficient of determination: 0.9177689202528482\n",
          "output_type": "stream"
        }
      ],
      "execution_count": 77
    },
    {
      "cell_type": "code",
      "source": "print(\"Intercept:\", model.intercept_)",
      "metadata": {
        "trusted": true
      },
      "outputs": [
        {
          "name": "stdout",
          "text": "Intercept: 0.40185744317712746\n",
          "output_type": "stream"
        }
      ],
      "execution_count": 36
    },
    {
      "cell_type": "code",
      "source": "print(f\"slope: {model.coef_}\")",
      "metadata": {
        "trusted": true
      },
      "outputs": [
        {
          "name": "stdout",
          "text": "slope: [-0.04143062 -0.02264992  0.06606445 ...  0.24837005  0.01943835\n -0.02614297]\n",
          "output_type": "stream"
        }
      ],
      "execution_count": 79
    },
    {
      "cell_type": "code",
      "source": "new_model = LinearRegression().fit(x, y.reshape((-1, 1)))",
      "metadata": {
        "trusted": true
      },
      "outputs": [],
      "execution_count": 81
    },
    {
      "cell_type": "code",
      "source": "print(f\"intercept: {new_model.intercept_}\")\n",
      "metadata": {
        "trusted": true
      },
      "outputs": [
        {
          "name": "stdout",
          "text": "intercept: [0.40185744]\n",
          "output_type": "stream"
        }
      ],
      "execution_count": 83
    },
    {
      "cell_type": "code",
      "source": "print(f\"slope: {new_model.coef_}\")",
      "metadata": {
        "trusted": true
      },
      "outputs": [
        {
          "name": "stdout",
          "text": "slope: [[-0.04143062 -0.02264992  0.06606445 ...  0.24837005  0.01943835\n  -0.02614297]]\n",
          "output_type": "stream"
        }
      ],
      "execution_count": 84
    },
    {
      "cell_type": "code",
      "source": " y_pred = model.predict(x)",
      "metadata": {
        "trusted": true
      },
      "outputs": [],
      "execution_count": 85
    },
    {
      "cell_type": "code",
      "source": "print(f\"predicted response:\\n{y_pred}\")",
      "metadata": {
        "trusted": true
      },
      "outputs": [
        {
          "name": "stdout",
          "text": "predicted response:\n[ 0.48296395  0.00760207  0.12608874 ...  0.70092856  1.085199\n -0.00225367]\n",
          "output_type": "stream"
        }
      ],
      "execution_count": 86
    },
    {
      "cell_type": "code",
      "source": "y_pred = model.intercept_ + model.coef_ * x",
      "metadata": {
        "trusted": true
      },
      "outputs": [],
      "execution_count": 87
    },
    {
      "cell_type": "code",
      "source": "print(f\"predicted response:\\n{y_pred}\")",
      "metadata": {
        "trusted": true
      },
      "outputs": [
        {
          "name": "stdout",
          "text": "predicted response:\n           the        to       ect       and       for        of         a  \\\n0     0.401857  0.401857  0.467922  0.401857  0.401857  0.401857  0.422125   \n1     0.070413  0.107408  1.987404  0.355205  0.188733  0.311764  1.435515   \n2     0.401857  0.401857  0.467922  0.401857  0.401857  0.401857  0.482929   \n3     0.401857  0.288608  1.855275  0.401857  0.224253  0.356811  0.918686   \n4     0.111843  0.265958  1.524953  0.394082  0.224253  0.311764  0.979490   \n...        ...       ...       ...       ...       ...       ...       ...   \n5167  0.318996  0.356558  0.533986  0.378531  0.401857  0.401857  0.726142   \n5168 -1.048214 -0.209691  1.128566  0.386307  0.188733  0.176624  1.932076   \n5169  0.401857  0.401857  0.467922  0.394082  0.401857  0.401857  0.513330   \n5170  0.318996  0.243308  0.467922  0.401857  0.330816  0.356811  0.685607   \n5171 -0.509616 -0.141741  0.732180  0.394082  0.188733  0.176624  1.901675   \n\n           you       hou        in  ...  enhancements  connevey       jay  \\\n0     0.401857  0.401857  0.401857  ...      0.401857  0.401857  0.401857   \n1     0.402347  0.209538 -0.013741  ...      0.401857  0.401857  0.401857   \n2     0.401857  0.401857  0.309502  ...      0.401857  0.401857  0.401857   \n3     0.402836  0.330628  0.378769  ...      0.401857  0.401857  0.401857   \n4     0.401857  0.337751  0.332591  ...      0.401857  0.401857  0.401857   \n...        ...       ...       ...  ...           ...       ...       ...   \n5167  0.401857  0.401857  0.286414  ...      0.401857  0.401857  0.401857   \n5168  0.403814  0.380489 -0.129184  ...      0.401857  0.401857  0.401857   \n5169  0.401857  0.401857  0.378769  ...      0.401857  0.401857  0.401857   \n5170  0.402836  0.401857  0.217147  ...      0.401857  0.401857  0.401857   \n5171  0.405771  0.387612 -0.129184  ...      0.401857  0.401857  0.401857   \n\n        valued       lay  infrastructure  military  allowing        ff  \\\n0     0.401857  0.401857        0.401857  0.401857  0.401857  0.401857   \n1     0.401857  0.401857        0.401857  0.401857  0.401857  0.421296   \n2     0.401857  0.401857        0.401857  0.401857  0.401857  0.401857   \n3     0.401857  0.401857        0.401857  0.401857  0.401857  0.401857   \n4     0.401857  0.401857        0.401857  0.401857  0.401857  0.421296   \n...        ...       ...             ...       ...       ...       ...   \n5167  0.401857  0.401857        0.401857  0.401857  0.401857  0.401857   \n5168  0.401857  0.401857        0.401857  0.401857  0.401857  0.421296   \n5169  0.401857  0.401857        0.401857  0.401857  0.401857  0.401857   \n5170  0.401857  0.401857        0.401857  0.401857  0.401857  0.421296   \n5171  0.401857  0.401857        0.401857  0.401857  0.401857  0.401857   \n\n           dry  \n0     0.401857  \n1     0.401857  \n2     0.401857  \n3     0.401857  \n4     0.401857  \n...        ...  \n5167  0.401857  \n5168  0.401857  \n5169  0.401857  \n5170  0.401857  \n5171  0.401857  \n\n[5172 rows x 3000 columns]\n",
          "output_type": "stream"
        }
      ],
      "execution_count": 88
    }
  ]
}